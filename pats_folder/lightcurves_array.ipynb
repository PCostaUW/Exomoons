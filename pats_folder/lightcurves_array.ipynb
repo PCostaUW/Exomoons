{
 "cells": [
  {
   "cell_type": "code",
   "execution_count": 16,
   "id": "d901fadc-9606-4506-88ca-e714ef8800e7",
   "metadata": {},
   "outputs": [],
   "source": [
    "import gefera as gf\n",
    "import numpy as np\n",
    "import astropy.constants as ac\n",
    "import matplotlib.pyplot as plt\n",
    "import numpy as np\n",
    "from collections.abc import Sequence\n",
    "import celerite2 as ct"
   ]
  },
  {
   "cell_type": "code",
   "execution_count": 97,
   "id": "079e16c3-4c8f-4609-8c27-8a05dd49a6ff",
   "metadata": {},
   "outputs": [],
   "source": [
    "p_transit = {\n",
    "'ap':215.0,\n",
    "'tp':-91.25,\n",
    "'ep':0.0,\n",
    "'pp':365,\n",
    "'wp':0.1 * np.pi / 180,\n",
    "'ip':89.8 * np.pi / 180,\n",
    "'am':2,\n",
    "'tm': -4.2,\n",
    "'em' : 0.0,\n",
    "'pm' : 8,\n",
    "'om' :90 * np.pi / 180,\n",
    "'wm' : -90 * np.pi / 180,\n",
    "'im' : 90.0 * np.pi / 180,\n",
    "'mm' : 0.01,\n",
    "'rp' : 0.1,\n",
    "'rm' : 0.05,\n",
    "'u1' : 0.5,\n",
    "'u2' : 0.3,\n",
    "}\n",
    " \n",
    "po = gf.orbits.PrimaryOrbit(ap, tp, ep, pp, wp, ip)\n",
    "mo = gf.orbits.SatelliteOrbit(am, tm, em, pm, om, wm, im, mm)\n",
    "sys = gf.systems.HierarchicalSystem(po, mo)\n",
    "\n",
    "   \n",
    "t = np.linspace(-0.6, 0.3, 10000)\n",
    "# The out-of-transit flux is set to zero by default, so we add 1 to get the normalized flux.\n",
    "flux = sys.lightcurve(t, u1, u2, rp, rm) + 1"
   ]
  },
  {
   "cell_type": "code",
   "execution_count": 98,
   "id": "894bf0ab-ab7d-4921-ae44-36a70e47f86c",
   "metadata": {},
   "outputs": [
    {
     "data": {
      "text/plain": [
       "{'ap': 215.0,\n",
       " 'tp': -91.25,\n",
       " 'ep': 0.0,\n",
       " 'pp': 365,\n",
       " 'wp': 0.0017453292519943296,\n",
       " 'ip': 1.5673056682909077,\n",
       " 'am': 2,\n",
       " 'tm': -4.2,\n",
       " 'em': 0.0,\n",
       " 'pm': 8,\n",
       " 'om': 1.5707963267948966,\n",
       " 'wm': -1.5707963267948966,\n",
       " 'im': 1.5707963267948966,\n",
       " 'mm': 0.01,\n",
       " 'rp': 0.1,\n",
       " 'rm': 0.05,\n",
       " 'u1': 0.5,\n",
       " 'u2': 0.3}"
      ]
     },
     "execution_count": 98,
     "metadata": {},
     "output_type": "execute_result"
    }
   ],
   "source": [
    "p_transit"
   ]
  },
  {
   "cell_type": "markdown",
   "id": "11199615-3dba-4ad4-a035-dead8e3384a3",
   "metadata": {},
   "source": [
    "Questions:\n",
    "Which parameters are in a transit model? A noise model?\n",
    "How to instantiate a noise model?\n",
    "By \"transit model\", does that refer to the sys.lightcurve or just sys?\n",
    "If p_transit and p_noise have all of the parameters in them, will one of those parameters be an array? Or will we have to pass the funciton another parameter that is an array of values for an independent variable?\n",
    "When you refer to the plots from the carter paper, are those the ones I recreated? "
   ]
  },
  {
   "cell_type": "markdown",
   "id": "664f4084-4261-4754-a7be-9937925af0ca",
   "metadata": {},
   "source": [
    "white noise vs correlaated noise\n",
    "correlated - varies smoothely with time\n",
    "white - completely uncorrelated, two points close intime are not close to each other\n",
    "light curves have both noises"
   ]
  },
  {
   "cell_type": "code",
   "execution_count": 11,
   "id": "2faabb7b-93be-457a-b034-8b71fa47fe34",
   "metadata": {},
   "outputs": [
    {
     "data": {
      "text/plain": [
       "[<matplotlib.lines.Line2D at 0x7fc956c26520>]"
      ]
     },
     "execution_count": 11,
     "metadata": {},
     "output_type": "execute_result"
    },
    {
     "data": {
      "image/png": "[encoded data removed]",
      "text/plain": [
       "<Figure size 432x288 with 1 Axes>"
      ]
     },
     "metadata": {
      "needs_background": "light"
     },
     "output_type": "display_data"
    }
   ],
   "source": [
    "kernel = ct.terms.SHOTerm(rho=10,Q=1/np.sqrt(2),sigma=5)\n",
    "gp = ct.GaussianProcess(kernel)\n",
    "t=np.linspace(0,100,1000)\n",
    "gp.compute(t,diag=10) #diag adds 10 to the diag of the cov matrix, white noise amplitude\n",
    "plt.plot(t,gp.sample())"
   ]
  },
  {
   "cell_type": "code",
   "execution_count": 87,
   "id": "80cba910-f212-443e-ad0d-805baba5ced4",
   "metadata": {},
   "outputs": [],
   "source": [
    "#given a transit model and a noise model with parameters with p_transit and p_noise, produce a curve of the fisher info with any of the transit parameters as the independent var\n",
    "#for each element of the array of independent variables,\n",
    "\t#instantiate a celerite model for the noise\n",
    "\t#instantiate a gefera model for the transit \n",
    "\t#compute the information matrix using the covariance matrix from celerite and the derivatives from gefera\n",
    "\t#invert the information matrix to get the Cramér-Rao bounds \n",
    "\n",
    "#return an array of the inverted information matrices — should have one matrix entry for each element of the original array of independent variables. \n",
    "\n",
    "#p_transit is an array of parameters for the transit\n",
    "#p_noise is an array of parameters for the noise\n",
    "#**ind_var should just be one parameter and needs to have an expected name\n",
    "\n",
    "#p_transit(all dynamical params for moon and planet)\n",
    "#p_noise  use simple harmonic oscillator kernel\n",
    "#want to be flexible to noise model that we use, can use different celerite models\n",
    "#simple: use one simple harm term, Q=1/sqrt2\n",
    "#need white noise param, not part of celerite model\n",
    "\n",
    "#make p_transit and p_noise dictionaries\n",
    "\n",
    "#p_noise has rho,sigma,Q,diag\n"
   ]
  },
  {
   "cell_type": "code",
   "execution_count": 100,
   "id": "5c4158b1-f449-4c34-b616-b71596211cea",
   "metadata": {},
   "outputs": [],
   "source": [
    "def lc_corr(p_transit,p_noise,**ind_var):\n",
    "    param = set(p_transit.keys()).intersection(set(ind_var.keys())) #finds if the ind_var is a transit parameter\n",
    "    key, value = list(ind_var.items())[0]\n",
    "    if param != {} and len(param) == 1:\n",
    "        p_transit.update({key:value})\n",
    "    elif param == set():\n",
    "        param = set(p_transit.keys()).intersection(set(ind_var.keys()))\n",
    "        p_noise.update({key:value})\n",
    "    else:\n",
    "        return None #if the ind_var is in neither transit nor noise dictionary, return None\n",
    "    \n",
    "    t=np.linspace(0,100,1000)\n",
    "    \n",
    "    #instantiate noise model\n",
    "    kernel = ct.terms.SHOTerm(rho=p_noise['rho'], Q=1/np.sqrt(2), sigma=p_noise['sigma'])\n",
    "    gp = ct.GaussianProcess(kernel)\n",
    "    gp.compute(t, \\diag=p_noise['diag']) #diag adds 10 to the diag of the cov matrix, white noise amplitude\n",
    "    \n",
    "    #instantiate transit model\n",
    "    po = gf.orbits.PrimaryOrbit(p_transit['ap'], p_transit['tp'], p_transit['ep'], p_transit['pp'], p_transit['wp'], p_transit['ip'])\n",
    "    mo = gf.orbits.SatelliteOrbit(p_transit['am'], p_transit['tm'], p_transit['em'], p_transit['pm'], p_transit['om'], p_transit['wm'], p_transit['im'], p_transit['mm'])\n",
    "    sys = gf.systems.HierarchicalSystem(po, mo)\n",
    "\n",
    "    "
   ]
  },
  {
   "cell_type": "markdown",
   "id": "52343328-f431-4acc-81f2-77fe9ae2637a",
   "metadata": {},
   "source": [
    "plots:\n",
    "covar. of two variables as a function of the changin independent vars\n",
    "\n",
    "approach:\n",
    "just return the matrices, otherwise have a ton of plots, we will use our own judgment to decide which covariances are going to be relevant"
   ]
  },
  {
   "cell_type": "markdown",
   "id": "16399ec5-00fa-4e49-8ed7-9cbc184dff50",
   "metadata": {},
   "source": [
    "potentially pass a dictionary --> order doesn't matter unlike array\n",
    "\n",
    "think about how i want the interface of the function, then think how to do it\n",
    "\n",
    "maybe pass array of all params except the array\n",
    "\n",
    "\n",
    "celerite takes care of right two terms of eq 21 in paper\n",
    "\n",
    "mu is the light curve\n",
    "dmu/dtheta_i is the deriv of lc w respect to ind var theta_i"
   ]
  }
 ],
 "metadata": {
  "kernelspec": {
   "display_name": "Python 3",
   "language": "python",
   "name": "python3"
  },
  "language_info": {
   "codemirror_mode": {
    "name": "ipython",
    "version": 3
   },
   "file_extension": ".py",
   "mimetype": "text/x-python",
   "name": "python",
   "nbconvert_exporter": "python",
   "pygments_lexer": "ipython3",
   "version": "3.8.10"
  }
 },
 "nbformat": 4,
 "nbformat_minor": 5
}
