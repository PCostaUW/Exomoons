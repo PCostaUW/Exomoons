{
 "cells": [
  {
   "cell_type": "code",
   "execution_count": 2,
   "id": "c7d7fc47-b80d-4778-95c3-7667542818f8",
   "metadata": {},
   "outputs": [],
   "source": [
    "import numpy as np\n",
    "from astropy import units as u\n",
    "import matplotlib.pyplot as plt"
   ]
  },
  {
   "cell_type": "code",
   "execution_count": 3,
   "id": "f720c062-2597-48f3-844b-1a2375ec39f4",
   "metadata": {},
   "outputs": [],
   "source": [
    "#unocculted flux (using the Sun's in W/m^2)\n",
    "f_0 = 1335\n",
    "\n",
    "#star radius (Sun, kg)\n",
    "R_s = 6.9*10**8\n",
    "\n",
    "#ratio of planet radius to star radius (Carter uses 0.2)\n",
    "r=0.2\n",
    "\n",
    "#semi-major axis (Earth's for now)\n",
    "a = 1.5 * 10**8\n",
    "\n",
    "#eccentricity (using Earth's)\n",
    "e = 0.01\n",
    "\n",
    "#inclination (radians)\n",
    "i = np.pi\n",
    "\n",
    "#argument of the pericenter\n",
    "ω = np.pi/8\n",
    "\n",
    "#angular freq (what's a typical value for this?)\n",
    "n = 7.5"
   ]
  },
  {
   "cell_type": "code",
   "execution_count": 4,
   "id": "a0668b37-f81f-493a-adf5-8d08d6124c97",
   "metadata": {},
   "outputs": [],
   "source": [
    "#normalized impact parameter\n",
    "b = (a * np.cos(i) / R_s) * ((1 - e**2)/(1 + e * np.sin(ω)))\n",
    "b=0.5\n",
    "\n",
    "τ_0 = (R_s / (a * n)) * (np.sqrt(1 - e**2) / (1 + e * np.sin(ω)))"
   ]
  },
  {
   "cell_type": "code",
   "execution_count": 5,
   "id": "f66c0113-52cb-434c-ab8d-0603cbefae7e",
   "metadata": {},
   "outputs": [],
   "source": [
    "#parameters\n",
    "\n",
    "δ = f_0 * r**2\n",
    "\n",
    "T = 2 * τ_0 * np.sqrt(1 - b**2)\n",
    "\n",
    "τ = 2 * τ_0 * r / np.sqrt(1 - b**2)"
   ]
  },
  {
   "cell_type": "code",
   "execution_count": 11,
   "id": "a6ca4dec-9e72-4545-a7db-43b4d355f925",
   "metadata": {},
   "outputs": [
    {
     "data": {
      "text/plain": [
       "0.3880146374446116"
      ]
     },
     "execution_count": 11,
     "metadata": {},
     "output_type": "execute_result"
    }
   ],
   "source": [
    "(T/2)-τ/2\n"
   ]
  },
  {
   "cell_type": "code",
   "execution_count": 16,
   "id": "69df59fd-9ffe-4bfb-a318-7a4c1cfb0c23",
   "metadata": {},
   "outputs": [],
   "source": [
    "#Piecewise linear\n",
    "\n",
    "#based on the value of T given the values above, this seems like a good range for t\n",
    "t = np.linspace(0,5,500)\n",
    "\n",
    "#for symmetry purposes setting as 1.5\n",
    "t_c = 2.5\n",
    "def lin_lc(x):\n",
    "    if np.abs(x-t_c) <= (T/2 - τ/2):\n",
    "        return f_0 - δ\n",
    "    elif (T/2 - τ/2) < np.abs(x-t_c) < (T/2 + τ/2):\n",
    "        return f_0 - δ + δ/τ * (np.abs(x-t_c) - T/2 + τ/2)\n",
    "    elif np.abs(x-t_c) >= (T/2 + τ/2):\n",
    "        return f_0\n",
    "    else: return 0"
   ]
  },
  {
   "cell_type": "code",
   "execution_count": 17,
   "id": "2ccbbf9d-f850-4886-b361-efc5eacc79f3",
   "metadata": {},
   "outputs": [
    {
     "data": {
      "image/png": "[encoded data removed]",
      "text/plain": [
       "<Figure size 432x288 with 1 Axes>"
      ]
     },
     "metadata": {
      "needs_background": "light"
     },
     "output_type": "display_data"
    }
   ],
   "source": [
    "plt.plot(t, list(map(lin_lc, t)),marker='.');"
   ]
  },
  {
   "cell_type": "code",
   "execution_count": null,
   "id": "320fe5fd-6e6e-4183-bcf8-d3bac1a19063",
   "metadata": {},
   "outputs": [],
   "source": []
  }
 ],
 "metadata": {
  "kernelspec": {
   "display_name": "Python 3",
   "language": "python",
   "name": "python3"
  },
  "language_info": {
   "codemirror_mode": {
    "name": "ipython",
    "version": 3
   },
   "file_extension": ".py",
   "mimetype": "text/x-python",
   "name": "python",
   "nbconvert_exporter": "python",
   "pygments_lexer": "ipython3",
   "version": "3.8.10"
  }
 },
 "nbformat": 4,
 "nbformat_minor": 5
}
