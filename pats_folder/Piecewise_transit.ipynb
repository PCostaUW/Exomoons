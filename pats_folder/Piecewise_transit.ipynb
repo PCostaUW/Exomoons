{
 "cells": [
  {
   "cell_type": "code",
   "execution_count": 1,
   "id": "1c906760-73f9-4862-8f8d-c66877a9ad47",
   "metadata": {},
   "outputs": [],
   "source": [
    "import celerite2 as ct"
   ]
  },
  {
   "cell_type": "code",
   "execution_count": 2,
   "id": "9f857600-6462-4165-a2ae-b83553ab3249",
   "metadata": {},
   "outputs": [],
   "source": [
    "import numpy as np\n",
    "import matplotlib.pyplot as plt"
   ]
  },
  {
   "cell_type": "code",
   "execution_count": 3,
   "id": "d0676422-fe28-47d6-82bd-47b0c0a42d4c",
   "metadata": {},
   "outputs": [],
   "source": [
    "t = np.linspace(0,10,1000)"
   ]
  },
  {
   "cell_type": "code",
   "execution_count": 4,
   "id": "729c5c99-010f-408d-99ed-a9305edb7af5",
   "metadata": {},
   "outputs": [],
   "source": [
    "f_0 = 5\n",
    "\n",
    "δ_m = 1\n",
    "T_m = 5 #duration of transit\n",
    "t_m = 3.5 #x position of middle of transit\n",
    "τ_m = 0.1\n",
    "\n",
    "δ_p = 3\n",
    "T_p = 5\n",
    "t_p = 4.5\n",
    "τ_p = 0.25\n",
    "\n",
    "δ_0 = 1\n",
    "T_0 = 1.5\n",
    "t_0 = 4\n",
    "τ_0 = 0.25\n",
    "\n",
    "\n"
   ]
  },
  {
   "cell_type": "code",
   "execution_count": 5,
   "id": "60bb323b-4f79-4c90-ac79-485aead41048",
   "metadata": {},
   "outputs": [],
   "source": [
    "def lin_lc(x):\n",
    "    \n",
    "    #eclipse egress\n",
    "    if (T_0/2 - τ_0/2) < x-t_0 < (T_0/2 + τ_0/2):\n",
    "        return f_0 - δ_0 + δ_p + δ_0/τ_0 * (-np.abs(x-t_0) - T_0/2 + τ_0/2)\n",
    "    #eclipse ingress\n",
    "    elif (T_0/2 - τ_0/2) < np.abs(x-t_0) < (T_0/2 + τ_0/2):\n",
    "        return f_0 - δ_0 + δ_p+ δ_0/τ_0 * (-np.abs(x-t_0) - T_0/2 + τ_0/2)\n",
    "    \n",
    "    #eclipse\n",
    "    elif np.abs(x-t_0) <= (T_0/2 - τ_0/2):\n",
    "        return f_0-δ_m-δ_p+δ_0\n",
    "    \n",
    "    #planet egress\n",
    "    elif (T_p/2 - τ_p/2) < x-t_p < (T_p/2 + τ_p/2):\n",
    "        return f_0 - δ_p + δ_p/τ_p * (np.abs(x-t_p) - T_p/2 + τ_p/2)\n",
    "    #planet ingress\n",
    "    elif (T_p/2 - τ_p/2) < np.abs(x-t_p) < (T_p/2 + τ_p/2):\n",
    "        return f_0 - δ_p - δ_m+ δ_p/τ_p * (np.abs(x-t_p) - T_p/2 + τ_p/2)\n",
    "    \n",
    "    #moon and planet transit\n",
    "    elif np.abs(x-t_m) <= (T_m/2 - τ_m/2) and np.abs(x-t_p) <= (T_p/2 - τ_p/2):\n",
    "        return f_0-δ_m-δ_p\n",
    "    \n",
    "    #moon egress\n",
    "    elif (T_m/2 - τ_m/2) < x-t_m < (T_m/2 + τ_m/2):\n",
    "        return f_0 - δ_m - δ_p+ δ_m/τ_m * (np.abs(x-t_m) - T_m/2 + τ_m/2)\n",
    "    #moon ingress\n",
    "    elif (T_m/2 - τ_m/2) < np.abs(x-t_m) < (T_m/2 + τ_m/2):\n",
    "        return f_0 - δ_m + δ_m/τ_m * (np.abs(x-t_m) - T_m/2 + τ_m/2)\n",
    "    \n",
    "    #planet only transit\n",
    "    elif np.abs(x-t_p) <= (T_p/2 - τ_p/2):\n",
    "        return f_0-δ_p\n",
    "    \n",
    "    #moon only transit\n",
    "    elif np.abs(x-t_m) <= (T_m/2 - τ_m/2):\n",
    "        return f_0-δ_m\n",
    "    \n",
    "    #unocculted\n",
    "    elif np.abs(x-t_m) >= (T_m/2 - τ_m/2):\n",
    "         return f_0\n",
    "    \n",
    "    else: return 0"
   ]
  },
  {
   "cell_type": "code",
   "execution_count": 6,
   "id": "8af9f3c1-9150-4711-8e84-bfa06f7b5ddf",
   "metadata": {},
   "outputs": [
    {
     "data": {
      "image/png": "[encoded data removed]",
      "text/plain": [
       "<Figure size 432x288 with 1 Axes>"
      ]
     },
     "metadata": {
      "needs_background": "light"
     },
     "output_type": "display_data"
    }
   ],
   "source": [
    "\n",
    "plt.plot(t, list(map(lin_lc, t)),marker='.');"
   ]
  },
  {
   "cell_type": "code",
   "execution_count": null,
   "id": "d2c725a5-0a6a-436a-83c3-867fb11b57eb",
   "metadata": {},
   "outputs": [],
   "source": []
  }
 ],
 "metadata": {
  "kernelspec": {
   "display_name": "Python 3",
   "language": "python",
   "name": "python3"
  },
  "language_info": {
   "codemirror_mode": {
    "name": "ipython",
    "version": 3
   },
   "file_extension": ".py",
   "mimetype": "text/x-python",
   "name": "python",
   "nbconvert_exporter": "python",
   "pygments_lexer": "ipython3",
   "version": "3.8.10"
  }
 },
 "nbformat": 4,
 "nbformat_minor": 5
}
