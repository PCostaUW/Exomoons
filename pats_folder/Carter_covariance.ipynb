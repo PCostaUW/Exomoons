{
 "cells": [
  {
   "cell_type": "code",
   "execution_count": 2,
   "id": "8b6e735a-6497-4931-a763-e2642e32eba3",
   "metadata": {},
   "outputs": [],
   "source": [
    "from sympy import symbols, sqrt, Matrix, simplify\n",
    "from matplotlib import pyplot as plt\n",
    "from matplotlib import ticker\n",
    "import numpy as np"
   ]
  },
  {
   "cell_type": "code",
   "execution_count": 4,
   "id": "a359193d-e87c-4259-aaf3-a1be74d3e78f",
   "metadata": {},
   "outputs": [],
   "source": [
    "T, δ, θ, Q, η, β = symbols('T δ θ Q η β')"
   ]
  },
  {
   "cell_type": "code",
   "execution_count": 5,
   "id": "aed13235-64f6-415b-82ad-e63fbfb7e479",
   "metadata": {},
   "outputs": [
    {
     "data": {
      "text/latex": [
       "$\\displaystyle \\left[\\begin{matrix}\\frac{T^{2} θ}{2 Q^{2}} & 0 & 0 & 0\\\\0 & \\frac{T^{2} θ \\left(6 - 5 θ\\right)}{Q^{2} \\left(1 - θ\\right)} & - \\frac{T^{2} θ^{2}}{Q^{2} \\left(1 - θ\\right)} & \\frac{T δ θ}{Q^{2} \\left(1 - θ\\right)}\\\\0 & - \\frac{T^{2} θ^{2}}{Q^{2} \\left(1 - θ\\right)} & \\frac{T^{2} θ \\left(2 - θ\\right)}{Q^{2} \\left(1 - θ\\right)} & - \\frac{T δ θ}{Q^{2} \\left(1 - θ\\right)}\\\\0 & \\frac{T δ θ}{Q^{2} \\left(1 - θ\\right)} & - \\frac{T δ θ}{Q^{2} \\left(1 - θ\\right)} & \\frac{δ^{2}}{Q^{2} \\left(1 - θ\\right)}\\end{matrix}\\right]$"
      ],
      "text/plain": [
       "Matrix([\n",
       "[T**2*θ/(2*Q**2),                               0,                             0,                     0],\n",
       "[              0, T**2*θ*(6 - 5*θ)/(Q**2*(1 - θ)),     -T**2*θ**2/(Q**2*(1 - θ)),  T*δ*θ/(Q**2*(1 - θ))],\n",
       "[              0,       -T**2*θ**2/(Q**2*(1 - θ)), T**2*θ*(2 - θ)/(Q**2*(1 - θ)), -T*δ*θ/(Q**2*(1 - θ))],\n",
       "[              0,            T*δ*θ/(Q**2*(1 - θ)),         -T*δ*θ/(Q**2*(1 - θ)),   δ**2/(Q**2*(1 - θ))]])"
      ]
     },
     "execution_count": 5,
     "metadata": {},
     "output_type": "execute_result"
    }
   ],
   "source": [
    "#covariance matrix\n",
    "\n",
    "row1 = [T**2 * θ/2, 0,0,0]\n",
    "row2 = [0,θ*(6-5*θ)/(1-θ)*T**2,-θ**2/(1-θ)*T**2,θ/(1-θ)*δ*T]\n",
    "row3 = [0,-θ**2/(1-θ)*T**2,θ*(2-θ)/(1-θ)*T**2,-θ/(1-θ)*δ*T]\n",
    "row4 = [0,θ/(1-θ)*δ*T,-θ/(1-θ)*δ*T,1/(1-θ)*δ**2]\n",
    "\n",
    "simplifed_cov_mat = 1/Q**2 * (Matrix([row1,row2,row3,row4]))\n",
    "simplifed_cov_mat\n",
    "                              "
   ]
  },
  {
   "cell_type": "raw",
   "id": "9aec2612-ac26-4ef2-a26e-11e978bb2017",
   "metadata": {},
   "source": [
    "Q: Signal-to-noise ratio of the transit in the limit r-->0\n",
    "θ: Ratio of ingress(or egress) duration to the total transit duration\n",
    "η: Ratio of the number of data points obtained during the transit to the number of data points obtained before or after the transit. So in the limit where this ratio goes to 0, we are saying that we have tons of data points outside of transit.\n",
    "\n",
    "Parameters (from left to right and top down)\n",
    "t_c: transit midpoint\n",
    "τ: ingress or egress duration\n",
    "T: Total transit duration\n",
    "δ: depth of transit\n",
    "f_0: unocculted flux\n",
    "\n",
    "Goal: recreate the correlation plots using the correlation matrix, defined below."
   ]
  },
  {
   "cell_type": "code",
   "execution_count": 6,
   "id": "445e0d8c-4ea0-4166-b1e5-3775d9d5a13c",
   "metadata": {},
   "outputs": [
    {
     "data": {
      "text/latex": [
       "$\\displaystyle \\left[\\begin{matrix}1 & 0 & 0 & 0 & 0\\\\0 & 1 & - \\frac{θ}{\\sqrt{\\left(2 - θ\\right) \\left(6 - 5 θ\\right)}} & \\sqrt{\\frac{θ}{6 - 5 θ}} & 0\\\\0 & - \\frac{θ}{\\sqrt{\\left(2 - θ\\right) \\left(6 - 5 θ\\right)}} & 1 & - \\sqrt{\\frac{θ}{2 - θ}} & 0\\\\0 & \\sqrt{\\frac{θ}{6 - 5 θ}} & - \\sqrt{\\frac{θ}{2 - θ}} & 1 & 0\\\\0 & 0 & 0 & 0 & 1\\end{matrix}\\right]$"
      ],
      "text/plain": [
       "Matrix([\n",
       "[1,                          0,                          0,                 0, 0],\n",
       "[0,                          1, -θ/sqrt((2 - θ)*(6 - 5*θ)), sqrt(θ/(6 - 5*θ)), 0],\n",
       "[0, -θ/sqrt((2 - θ)*(6 - 5*θ)),                          1,  -sqrt(θ/(2 - θ)), 0],\n",
       "[0,          sqrt(θ/(6 - 5*θ)),           -sqrt(θ/(2 - θ)),                 1, 0],\n",
       "[0,                          0,                          0,                 0, 1]])"
      ]
     },
     "execution_count": 6,
     "metadata": {},
     "output_type": "execute_result"
    }
   ],
   "source": [
    "#correlaton matrix in the limit η--> 0 (lots of observing data outside of transit)\n",
    "corrow1 = [1,0,0,0,0]\n",
    "corrow2 = [0,1,-θ/sqrt((6-5*θ)*(2-θ)),sqrt(θ/(6-5*θ)),0]\n",
    "corrow3 = [0,-θ/sqrt((6-5*θ)*(2-θ)),1,-sqrt(θ/(2-θ)),0]\n",
    "corrow4 = [0,sqrt(θ/(6-5*θ)),-sqrt(θ/(2-θ)),1,0]\n",
    "corrow5 = [0,0,0,0,1]\n",
    "cormatlim = Matrix([corrow1,corrow2,corrow3,corrow4,corrow5])\n",
    "cormatlim"
   ]
  },
  {
   "cell_type": "code",
   "execution_count": 8,
   "id": "1b8876f2-82bd-47f6-b71e-a68e50d8be2e",
   "metadata": {},
   "outputs": [
    {
     "data": {
      "text/latex": [
       "$\\displaystyle \\left[\\begin{matrix}1 & 0 & 0 & 0 & 0\\\\0 & 1 & \\frac{θ \\left(β - 1\\right)}{\\sqrt{\\left(- θ \\left(1 - β\\right) + 2\\right) \\left(- θ \\left(5 - β\\right) + 6\\right)}} & \\sqrt{\\frac{θ \\left(β + 1\\right)}{- θ \\left(5 - β\\right) + 6}} & \\sqrt{\\frac{β θ}{- θ \\left(5 - β\\right) + 6}}\\\\0 & \\frac{θ \\left(β - 1\\right)}{\\sqrt{\\left(- θ \\left(1 - β\\right) + 2\\right) \\left(- θ \\left(5 - β\\right) + 6\\right)}} & 1 & \\frac{\\sqrt{θ} \\left(β - 1\\right)}{\\sqrt{\\left(β + 1\\right) \\left(- θ \\left(1 - β\\right) + 2\\right)}} & \\sqrt{\\frac{β θ}{- θ \\left(1 - β\\right) + 2}}\\\\0 & \\sqrt{\\frac{θ \\left(β + 1\\right)}{- θ \\left(5 - β\\right) + 6}} & \\frac{\\sqrt{θ} \\left(β - 1\\right)}{\\sqrt{\\left(β + 1\\right) \\left(- θ \\left(1 - β\\right) + 2\\right)}} & 1 & \\sqrt{\\frac{β}{β + 1}}\\\\0 & \\sqrt{\\frac{β θ}{- θ \\left(5 - β\\right) + 6}} & \\sqrt{\\frac{β θ}{- θ \\left(1 - β\\right) + 2}} & \\sqrt{\\frac{β}{β + 1}} & 1\\end{matrix}\\right]$"
      ],
      "text/plain": [
       "Matrix([\n",
       "[1,                                                 0,                                                 0,                                              0,                          0],\n",
       "[0,                                                 1, θ*(β - 1)/sqrt((-θ*(1 - β) + 2)*(-θ*(5 - β) + 6)),               sqrt(θ*(β + 1)/(-θ*(5 - β) + 6)), sqrt(β*θ/(-θ*(5 - β) + 6))],\n",
       "[0, θ*(β - 1)/sqrt((-θ*(1 - β) + 2)*(-θ*(5 - β) + 6)),                                                 1, sqrt(θ)*(β - 1)/sqrt((β + 1)*(-θ*(1 - β) + 2)), sqrt(β*θ/(-θ*(1 - β) + 2))],\n",
       "[0,                  sqrt(θ*(β + 1)/(-θ*(5 - β) + 6)),    sqrt(θ)*(β - 1)/sqrt((β + 1)*(-θ*(1 - β) + 2)),                                              1,            sqrt(β/(β + 1))],\n",
       "[0,                        sqrt(β*θ/(-θ*(5 - β) + 6)),                        sqrt(β*θ/(-θ*(1 - β) + 2)),                                sqrt(β/(β + 1)),                          1]])"
      ]
     },
     "execution_count": 8,
     "metadata": {},
     "output_type": "execute_result"
    }
   ],
   "source": [
    "#for plotting purposes, need the correlation matrix NOT in the limit η--> 0\n",
    "cor1 = [1,0,0,0,0]\n",
    "cor2 = [0,1,(β-1)*θ/sqrt((6-θ*(5-β))*(2-θ*(1-β))),sqrt(((β+1)*θ)/(6-θ*(5-β))),sqrt(β*θ/(6-θ*(5-β)))]\n",
    "cor3 = [0,(β-1)*θ/sqrt((6-θ*(5-β))*(2-θ*(1-β))),1,(β-1)*sqrt(θ)/sqrt((β+1)*(2-θ*(1-β))),sqrt(β*θ/(2-θ*(1-β)))]\n",
    "cor4 = [0,sqrt(((β+1)*θ)/(6-θ*(5-β))),(β-1)*sqrt(θ)/sqrt((β+1)*(2-θ*(1-β))),1,sqrt(β/(β+1))]\n",
    "cor5 = [0,sqrt(β*θ/(6-θ*(5-β))),sqrt(β*θ/(2-θ*(1-β))),sqrt(β/(β+1)),1]\n",
    "cormat=Matrix([cor1,cor2,cor3,cor4,cor5])\n",
    "cormat"
   ]
  },
  {
   "cell_type": "raw",
   "id": "a5a236be-e0ca-40e9-94c1-0a9e18384044",
   "metadata": {},
   "source": [
    "β ≡ η(1 − θ)"
   ]
  },
  {
   "cell_type": "code",
   "execution_count": 184,
   "id": "6223d75c-42bd-4751-ac43-fe5b3d9ffa05",
   "metadata": {},
   "outputs": [],
   "source": [
    "#recreates figure 5 from Carter(2008)\n",
    "#plots correlation between the parameters w/ respect to θ\n",
    "#I considered using sliders for r and b θ=r/(1-b^2), but the paper just has θ ranging from 0.05 to 0.5 so I'll just use that range instead\n",
    "#probably can make this function more concise with a loop somewhere (the η values), but it was simple enough just to hardcode it\n",
    "def plot_corr():\n",
    "    \n",
    "    θ = np.linspace(0.05,0.5,500)\n",
    "    \n",
    "    η=0 #η will take different values (0,0.5,1)\n",
    "    β = η*(1-θ)\n",
    "    \n",
    "    #correlation matrix\n",
    "    cor1 = [1,0,0,0,0]\n",
    "    cor2 = [0,1,(β-1)*θ/np.sqrt((6-θ*(5-β))*(2-θ*(1-β))),np.sqrt(((β+1)*θ)/(6-θ*(5-β))),np.sqrt(β*θ/(6-θ*(5-β)))]\n",
    "    cor3 = [0,(β-1)*θ/np.sqrt((6-θ*(5-β))*(2-θ*(1-β))),1,(β-1)*np.sqrt(θ)/np.sqrt((β+1)*(2-θ*(1-β))),np.sqrt(β*θ/(2-θ*(1-β)))]\n",
    "    cor4 = [0,np.sqrt(((β+1)*θ)/(6-θ*(5-β))),(β-1)*np.sqrt(θ)/np.sqrt((β+1)*(2-θ*(1-β))),1,np.sqrt(β/(β+1))]\n",
    "    cor5 = [0,np.sqrt(β*θ/(6-θ*(5-β))),np.sqrt(β*θ/(2-θ*(1-β))),np.sqrt(β/(β+1)),1]\n",
    "    cormat=[cor1,cor2,cor3,cor4,cor5]\n",
    "    \n",
    "    fig,ax = plt.subplots(2,3)\n",
    "    fig.set_size_inches(8,5)                      \n",
    "    fig.tight_layout()\n",
    "    \n",
    "    ax[0][0].set_xlabel('θ')\n",
    "    ax[0][0].set_ylim(-1,0)\n",
    "    ax[0][0].set_xscale('log')\n",
    "    ax[0][0].set_xticks([0.05, 0.15, 0.5])\n",
    "    ax[0][0].get_xaxis().set_major_formatter(ticker.ScalarFormatter())\n",
    "    ax[0][0].text(0.05,-0.8,'T,τ',fontsize=12)\n",
    "    \n",
    "    ax[0][1].set_xlabel('θ')\n",
    "    ax[0][1].set_ylim(0,1)\n",
    "    ax[0][1].set_xscale('log')\n",
    "    ax[0][1].set_xticks([0.05, 0.15, 0.5])\n",
    "    ax[0][1].get_xaxis().set_major_formatter(ticker.ScalarFormatter())\n",
    "    ax[0][1].text(0.05,0.8,'τ,δ',fontsize=12)\n",
    "    \n",
    "    ax[0][2].set_xlabel('θ')\n",
    "    ax[0][2].set_ylim(-1,0)\n",
    "    ax[0][2].set_xscale('log')\n",
    "    ax[0][2].set_xticks([0.05, 0.15, 0.5])\n",
    "    ax[0][2].get_xaxis().set_major_formatter(ticker.ScalarFormatter())\n",
    "    ax[0][2].text(0.05,-0.8,'δ,T',fontsize=12)\n",
    "    \n",
    "    ax[1][0].set_xlabel('θ')\n",
    "    ax[1][0].set_ylim(0,1)\n",
    "    ax[1][0].set_xscale('log')\n",
    "    ax[1][0].set_xticks([0.05, 0.15, 0.5])\n",
    "    ax[1][0].get_xaxis().set_major_formatter(ticker.ScalarFormatter())\n",
    "    ax[1][0].text(0.05,0.8,'τ,f0',fontsize=12)\n",
    "    \n",
    "    ax[1][1].set_xlabel('θ')\n",
    "    ax[1][1].set_ylim(0,1)\n",
    "    ax[1][1].set_xscale('log')\n",
    "    ax[1][1].set_xticks([0.05, 0.15, 0.5])\n",
    "    ax[1][1].get_xaxis().set_major_formatter(ticker.ScalarFormatter())\n",
    "    ax[1][1].text(0.05,0.8,'T,f0',fontsize=12)\n",
    "    \n",
    "    ax[1][2].set_xlabel('θ')\n",
    "    ax[1][2].set_ylim(0,1)\n",
    "    ax[1][2].set_xscale('log')\n",
    "    ax[1][2].set_xticks([0.05, 0.15, 0.5])\n",
    "    ax[1][2].get_xaxis().set_major_formatter(ticker.ScalarFormatter())\n",
    "    ax[1][2].text(0.05,0.8,'δ,f0',fontsize=12)\n",
    "    \n",
    "    #plots with η=0\n",
    "    ax[0][0].plot(θ,cormat[2][1],label='η=0') #T and τ\n",
    "    ax[0][1].plot(θ,cormat[1][3]) #τ and δ\n",
    "    ax[0][2].plot(θ,cormat[3][2]) #δ and T\n",
    "    ax[1][0].plot(θ,cormat[1][4]) #τ and f_0\n",
    "    ax[1][1].plot(θ,cormat[2][4]) #T and f_0\n",
    "    ax[1][2].plot(θ,cormat[3][4]) #δ and f_0\n",
    "    \n",
    "    η=0.5\n",
    "    β = η*(1-θ)\n",
    "    cor1 = [1,0,0,0,0]\n",
    "    cor2 = [0,1,(β-1)*θ/np.sqrt((6-θ*(5-β))*(2-θ*(1-β))),np.sqrt(((β+1)*θ)/(6-θ*(5-β))),np.sqrt(β*θ/(6-θ*(5-β)))]\n",
    "    cor3 = [0,(β-1)*θ/np.sqrt((6-θ*(5-β))*(2-θ*(1-β))),1,(β-1)*np.sqrt(θ)/np.sqrt((β+1)*(2-θ*(1-β))),np.sqrt(β*θ/(2-θ*(1-β)))]\n",
    "    cor4 = [0,np.sqrt(((β+1)*θ)/(6-θ*(5-β))),(β-1)*np.sqrt(θ)/np.sqrt((β+1)*(2-θ*(1-β))),1,np.sqrt(β/(β+1))]\n",
    "    cor5 = [0,np.sqrt(β*θ/(6-θ*(5-β))),np.sqrt(β*θ/(2-θ*(1-β))),np.sqrt(β/(β+1)),1]\n",
    "    cormat=[cor1,cor2,cor3,cor4,cor5]\n",
    "    \n",
    "    #plots with η=0.5\n",
    "    ax[0][0].plot(θ,cormat[2][1],linestyle='--',label='η=0.5') #T and τ\n",
    "    ax[0][1].plot(θ,cormat[1][3],linestyle='--') #τ and δ\n",
    "    ax[0][2].plot(θ,cormat[3][2],linestyle='--') #δ and T\n",
    "    ax[1][0].plot(θ,cormat[1][4],linestyle='--') #τ and f_0\n",
    "    ax[1][1].plot(θ,cormat[2][4],linestyle='--') #T and f_0\n",
    "    ax[1][2].plot(θ,cormat[3][4],linestyle='--') #δ and f_0\n",
    "    \n",
    "    η=1\n",
    "    β = η*(1-θ)\n",
    "    cor1 = [1,0,0,0,0]\n",
    "    cor2 = [0,1,(β-1)*θ/np.sqrt((6-θ*(5-β))*(2-θ*(1-β))),np.sqrt(((β+1)*θ)/(6-θ*(5-β))),np.sqrt(β*θ/(6-θ*(5-β)))]\n",
    "    cor3 = [0,(β-1)*θ/np.sqrt((6-θ*(5-β))*(2-θ*(1-β))),1,(β-1)*np.sqrt(θ)/np.sqrt((β+1)*(2-θ*(1-β))),np.sqrt(β*θ/(2-θ*(1-β)))]\n",
    "    cor4 = [0,np.sqrt(((β+1)*θ)/(6-θ*(5-β))),(β-1)*np.sqrt(θ)/np.sqrt((β+1)*(2-θ*(1-β))),1,np.sqrt(β/(β+1))]\n",
    "    cor5 = [0,np.sqrt(β*θ/(6-θ*(5-β))),np.sqrt(β*θ/(2-θ*(1-β))),np.sqrt(β/(β+1)),1]\n",
    "    cormat=[cor1,cor2,cor3,cor4,cor5]\n",
    "    \n",
    "    #plots with η=1\n",
    "    ax[0][0].plot(θ,cormat[2][1],linestyle=':',label='η=1') #T and τ\n",
    "    ax[0][1].plot(θ,cormat[1][3],linestyle=':') #τ and δ\n",
    "    ax[0][2].plot(θ,cormat[3][2],linestyle=':') #δ and T\n",
    "    ax[1][0].plot(θ,cormat[1][4],linestyle=':') #τ and f_0\n",
    "    ax[1][1].plot(θ,cormat[2][4],linestyle=':') #T and f_0\n",
    "    ax[1][2].plot(θ,cormat[3][4],linestyle=':') #δ and f_0\n",
    "    \n",
    "    fig.legend(loc='lower right')"
   ]
  },
  {
   "cell_type": "code",
   "execution_count": 185,
   "id": "4194ba6c-8115-4da8-aa56-5fdaf6b5d436",
   "metadata": {},
   "outputs": [
    {
     "data": {
      "image/png": "[encoded data removed]",
      "text/plain": [
       "<Figure size 576x360 with 6 Axes>"
      ]
     },
     "metadata": {
      "needs_background": "light"
     },
     "output_type": "display_data"
    }
   ],
   "source": [
    "plot_corr();"
   ]
  },
  {
   "cell_type": "code",
   "execution_count": 5,
   "id": "cc03e2c6-012f-47d6-8311-78fbf7b425f1",
   "metadata": {},
   "outputs": [],
   "source": [
    "def cov_derivatives(t_c,T,tau,delta,t):\n",
    "    t_c_deriv = -delta*(t-t_c)/(tau*np.abs(t-t_c))\n",
    "    tau_deriv = -delta*(np.abs(t-t_c)-T/2)/tau**2\n",
    "    T_deriv = -delta/(2*tau)\n",
    "    del_deriv = (np.abs(t-t_c)-T/2)/tau-0.5\n",
    "    f_0_deriv = 0\n",
    "    \n",
    "    deriv_dict = {\n",
    "        \"t_c\": [0,t_c_deriv,0],\n",
    "        \"tau\": [0,tau_deriv,0],\n",
    "        \"T\": [0,T_deriv,0],\n",
    "        \"delta\":[-1,del_deriv,0],\n",
    "        \"f_0\": [1,1,1]\n",
    "    }\n",
    "    \n",
    "    return deriv_dict"
   ]
  },
  {
   "cell_type": "code",
   "execution_count": 7,
   "id": "57eed293-b929-43e2-be1b-8e71fbef2325",
   "metadata": {},
   "outputs": [
    {
     "data": {
      "text/plain": [
       "{'t_c': [0, -0.45, 0],\n",
       " 'tau': [0, -0.0, 0],\n",
       " 'T': [0, -0.225, 0],\n",
       " 'delta': [-1, -0.5, 0],\n",
       " 'f_0': [1, 1, 1]}"
      ]
     },
     "execution_count": 7,
     "metadata": {},
     "output_type": "execute_result"
    }
   ],
   "source": [
    "cov_derivatives(5,10,2,0.9,10)"
   ]
  },
  {
   "cell_type": "code",
   "execution_count": null,
   "id": "7d5e5eb0-55b7-47d1-b4a9-9d1bce7ac0b4",
   "metadata": {},
   "outputs": [],
   "source": []
  }
 ],
 "metadata": {
  "kernelspec": {
   "display_name": "Python 3",
   "language": "python",
   "name": "python3"
  },
  "language_info": {
   "codemirror_mode": {
    "name": "ipython",
    "version": 3
   },
   "file_extension": ".py",
   "mimetype": "text/x-python",
   "name": "python",
   "nbconvert_exporter": "python",
   "pygments_lexer": "ipython3",
   "version": "3.8.10"
  }
 },
 "nbformat": 4,
 "nbformat_minor": 5
}
