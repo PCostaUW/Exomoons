{
 "cells": [
  {
   "cell_type": "code",
   "execution_count": 2,
   "id": "d901fadc-9606-4506-88ca-e714ef8800e7",
   "metadata": {},
   "outputs": [],
   "source": [
    "import gefera as gf\n",
    "import numpy as np\n",
    "import celerite2 as ct\n",
    "from numpy.linalg import inv\n",
    "import matplotlib.pyplot as plt\n",
    "import math"
   ]
  },
  {
   "cell_type": "code",
   "execution_count": 3,
   "id": "079e16c3-4c8f-4609-8c27-8a05dd49a6ff",
   "metadata": {},
   "outputs": [],
   "source": [
    "p_transit = {\n",
    "'ap':215.0,     #semi-major axis\n",
    "'tp':-91.25,    #time of periastron passage\n",
    "'ep':0.0,       #eccentricity\n",
    "'pp':365,       #orbital period\n",
    "'wp':0.1 * np.pi / 180,    #argument of periastron\n",
    "'ip':89.8 * np.pi / 180,   #inclination\n",
    "'am':2,\n",
    "'tm': -4.2,\n",
    "'em' : 0.0,\n",
    "'pm' : 8,\n",
    "'om' :90 * np.pi / 180,    #longitude of asending node (in radians)\n",
    "'wm' : -90 * np.pi / 180,\n",
    "'im' : 90.0 * np.pi / 180,\n",
    "'mm' : 0.01,    #moon/planet mass ratio\n",
    "'rp' : 0.1,\n",
    "'rm' : 0.05,\n",
    "'u1' : 0.5,\n",
    "'u2' : 0.3\n",
    "}\n",
    "\n",
    "p_noise = {\n",
    "    'rho':1,\n",
    "    'Q':1/np.sqrt(2),\n",
    "    'sigma':0,\n",
    "    'diag':0.001\n",
    "}\n",
    "\n",
    "po = gf.orbits.PrimaryOrbit(p_transit['ap'], p_transit['tp'], p_transit['ep'], p_transit['pp'], p_transit['wp'], p_transit['ip'])\n",
    "mo = gf.orbits.SatelliteOrbit(p_transit['am'], p_transit['tm'], p_transit['em'], p_transit['pm'], p_transit['om'], p_transit['wm'], p_transit['im'], p_transit['mm'])\n",
    "sys = gf.systems.HierarchicalSystem(po, mo)\n",
    "\n",
    "   \n",
    "t = np.linspace(-0.6, 0.3, 10000)\n",
    "\n",
    "flux, grad = sys.lightcurve(t, p_transit['u1'], p_transit['u2'], p_transit['rp'], p_transit['rm'], grad=True)\n",
    "\n"
   ]
  },
  {
   "cell_type": "code",
   "execution_count": 31,
   "id": "fc73a035-2a29-4832-bda0-dd210b9ec97b",
   "metadata": {},
   "outputs": [],
   "source": [
    "#reparameterizing omega,t_p to t0\n",
    "#inspired by Agol https://github.com/ericagol/TRAPPIST1_Spitzer/blob/master/src/NbodyGradient/src/kepler_init.jl\n",
    "def reparam_t0(e,w,p,tp):\n",
    "    '''Reparameterizes t0 in terms of e,w,p,tp'''\n",
    "    e = np.sqrt(e*np.cos(w)**2+e*np.sin(w))\n",
    "    t_anom = 1.5*np.pi-w\n",
    "    sqrt1me2 = np.sqrt(1-e**2)\n",
    "    t0 = tp-p*sqrt1me2*np.pi*e*np.sin(t_anom)/(2*(1+e*np.cos(t_anom)))+2*math.atan2(sqrt1me2*np.tan(0.5*t_anom),1+e)/sqrt1me2\n",
    "    return t0"
   ]
  },
  {
   "cell_type": "code",
   "execution_count": 5,
   "id": "35fa988a-aed4-470f-9c54-175d801e0ab6",
   "metadata": {},
   "outputs": [],
   "source": [
    "def transit_duration(e,P,w,a,i):\n",
    "    '''Returns transit duration of the planet given:\n",
    "    e: eccentricity\n",
    "    P: orbital period\n",
    "    w: argument of periastron\n",
    "    a: semi major axis in terms of star radii\n",
    "    i: inclination\n",
    "    '''\n",
    "    f = np.pi/2 - w #true anomaly at center of transit\n",
    "    S = a*((1-e**2)/(1+e*np.cos(f)))*np.sqrt(1-np.sin(i)**2*np.sin(w+f)**2) #separation between planet and star at center of transit in terms of star radii\n",
    "    T = (P/np.pi)*(S**2/np.sqrt(1-e**2))*np.arcsin(np.sqrt(1-a**2*S**2*np.cos(i)**2)/(a*S*np.sin(i)))\n",
    "    return T"
   ]
  },
  {
   "cell_type": "code",
   "execution_count": 6,
   "id": "43fae71d-aa21-4d14-9ac6-3e73684e990f",
   "metadata": {},
   "outputs": [],
   "source": [
    "def impact_param(r,i):\n",
    "    b = r*cos(i)\n",
    "    return b"
   ]
  },
  {
   "cell_type": "code",
   "execution_count": 7,
   "id": "a15c2fc0-b1e0-445c-b83e-acc03dff0bc9",
   "metadata": {},
   "outputs": [],
   "source": [
    "def phi(t,P):\n",
    "    phi = 2*np.pi*t/P\n",
    "    return phi"
   ]
  },
  {
   "cell_type": "code",
   "execution_count": 54,
   "id": "968901f3-c8e1-4c00-aaa3-e4aff6e61348",
   "metadata": {},
   "outputs": [],
   "source": [
    "#derivative of the light curve with respect to t0p and t0m\n",
    "ep=p_transit['ep']\n",
    "wp=p_transit['wp']\n",
    "pp=p_transit['pp']\n",
    "dt0p_dtp = 1\n",
    "dt0p_dpp = -np.sqrt(1-ep**2)*np.sin(1.5*np.pi-wp)/(2*(1+ep*np.cos(1.5*np.pi-wp)))\n",
    "dt0p_dep = 2*ep*np.arctan2(np.sqrt(1-ep**2)*np.tan(0.5*(1.5*np.pi-wp)),(1+ep))/(1-ep**2)**1.5\n",
    "+ pp*np.sqrt(1-ep**2)*np.cos(1.5*np.pi-wp)*np.sin(1.5*np.pi-wp)/(2*(1+ep*np.cos(1.5*np.pi-wp))**2)\n",
    "+ ep*pp*np.sin(1.5*np.pi-wp)/(2*np.sqrt(1-ep**2)*(1+ep*np.cos(1.5*np.pi-wp)))\n",
    "+ 2*(-ep*np.tan(0.5*(1.5*np.pi-wp))/((1+ep)*np.sqrt(1-ep**2))-np.sqrt(1-ep**2)*np.tan(0.5*(1.5*np.pi-wp))/(1+ep)**2)/(np.sqrt(1-ep**2)*(1+(((1-ep**2)*np.tan(0.5*(1.5*np.pi-wp))**2)/(1+ep**2))))\n",
    "dt0p_dwp = -(np.cos(0.5*(1.5*np.pi-wp))**-1)**2/((1+ep**2)*(1+((1-ep**2)*np.tan(0.5*(1.5*np.pi-wp))**2/(1+ep**2))))\n",
    "\n",
    "em=p_transit['em']\n",
    "wm=p_transit['wm']\n",
    "pm=p_transit['pm']\n",
    "dt0m_dtm = 1\n",
    "dt0m_dpm = -np.sqrt(1-em**2)*np.sin(1.5*np.pi-wm)/(2*(1+em*np.cos(1.5*np.pi-wm)))\n",
    "dt0m_dem = 2*em*np.arctan2(np.sqrt(1-em**2)*np.tan(0.5*(1.5*np.pi-wm)),(1+em))/(1-em**2)**1.5\n",
    "+ pm*np.sqrt(1-em**2)*np.cos(1.5*np.pi-wm)*np.sin(1.5*np.pi-wm)/(2*(1+em*np.cos(1.5*np.pi-wm))**2)\n",
    "+ em*pm*np.sin(1.5*np.pi-wm)/(2*np.sqrt(1-em**2)*(1+em*np.cos(1.5*np.pi-wm)))\n",
    "+ 2*(-em*np.tan(0.5*(1.5*np.pi-wm))/((1+em)*np.sqrt(1-em**2))-np.sqrt(1-em**2)*np.tan(0.5*(1.5*np.pi-wm))/(1+em)**2)/(np.sqrt(1-em**2)*(1+(((1-em**2)*np.tan(0.5*(1.5*np.pi-wm))**2)/(1+em**2))))\n",
    "dt0p_dwp = -(np.cos(0.5*(1.5*np.pi-wm))**-1)**2/((1+em**2)*(1+((1-em**2)*np.tan(0.5*(1.5*np.pi-wm))**2/(1+em**2))))\n"
   ]
  },
  {
   "cell_type": "code",
   "execution_count": 84,
   "id": "6ccb6df4-cb07-4d88-a997-42bc9fd1d515",
   "metadata": {},
   "outputs": [
    {
     "data": {
      "text/plain": [
       "18"
      ]
     },
     "execution_count": 84,
     "metadata": {},
     "output_type": "execute_result"
    }
   ],
   "source": [
    "len(grad.keys())"
   ]
  },
  {
   "cell_type": "code",
   "execution_count": 85,
   "id": "b5de9104-7e6e-43e6-99d5-3723da789d75",
   "metadata": {},
   "outputs": [
    {
     "data": {
      "text/plain": [
       "16"
      ]
     },
     "execution_count": 85,
     "metadata": {},
     "output_type": "execute_result"
    }
   ],
   "source": [
    "params = ['r1','r2','a1','a2','u1','u2','p1','p2','e1','e2','i1','i2','o2','m2','t01','t02']\n",
    "len(params)"
   ]
  },
  {
   "cell_type": "code",
   "execution_count": 10,
   "id": "611951ec-f741-497b-8530-65295e2dacf0",
   "metadata": {},
   "outputs": [],
   "source": [
    "def cov_matrix(p_transit,p_noise,**ind_var):\n",
    "    \n",
    "    param = set(p_transit.keys()).intersection(set(ind_var.keys())) #finds if the ind_var is a transit parameter\n",
    "    key, values = list(ind_var.items())[0]\n",
    "    if param != {} and len(param) == 1:\n",
    "        p_transit.update({key:values})\n",
    "        update = 0 #used later in the for loop to determine which param should equal val\n",
    "    elif param == set():\n",
    "        param = set(p_transit.keys()).intersection(set(ind_var.keys()))\n",
    "        p_noise.update({key:values})\n",
    "        update = 1\n",
    "    else:\n",
    "        return None #if the ind_var is in neither transit nor noise dictionary, return None\n",
    "    \n",
    "    t=np.linspace(-0.6,0.3,10000)\n",
    "    \n",
    "    #for each value of the independent variable, create a planet-moon system, instantiate a noise model, and calculate the cov matrix\n",
    "    for val in values:\n",
    "        if update == 0:\n",
    "            p_transit[key] = val\n",
    "        elif update == 1:\n",
    "            p_noise[key] = val\n",
    "    \n",
    "        po = gf.orbits.PrimaryOrbit(p_transit['ap'], p_transit['tp'], p_transit['ep'], p_transit['pp'], p_transit['wp'], p_transit['ip'])\n",
    "        mo = gf.orbits.SatelliteOrbit(p_transit['am'], p_transit['tm'], p_transit['em'], p_transit['pm'], p_transit['om'], p_transit['wm'], \n",
    "                                      p_transit['im'], p_transit['mm'])\n",
    "        sys = gf.systems.HierarchicalSystem(po, mo)\n",
    "        flux, grad = sys.lightcurve(t, p_transit['u1'], p_transit['u2'], p_transit['rp'], p_transit['rm'], grad=True)\n",
    "        \n",
    "        #instantiate noise model\n",
    "        kernel = ct.terms.SHOTerm(rho=p_noise['rho'], Q=p_noise['Q'], sigma=p_noise['sigma'])    \n",
    "        gp = ct.GaussianProcess(kernel)\n",
    "        \n",
    "        #reparameterize to get the transit time of the planet and moon\n",
    "        t0p = reparam_t0(p_transit['ep'],p_transit['wp'],p_transit['pp'],p_transit['tp'])\n",
    "        t0m = reparam_t0(p_transit['em'],p_transit['wm'],p_transit['pm'],p_transit['tm'])\n",
    "        \n",
    "        #define impact parameters\n",
    "        b1 = impact_param(p_transit['rp'],p_transit['ip'])\n",
    "        b2 = impact_param(p_transit['rm'],p_transit['im'])\n",
    "        \n",
    "        #define phi\n",
    "        phi = phi(p_transit['tm'],p_transit['pm'])\n",
    "                                         \n",
    "        #define transit duration\n",
    "        T = transit_duration(p_transit['ep'],p_transit['pp'],p_transit['wp'],p_transit['ap'],p_transit['ip'])\n",
    "              \n",
    "        #calculate/assign derivatives of flux with respect to each new param                                \n",
    "        dt0p = grad['t1']\n",
    "        dt0m = grad['t2']\n",
    "        grad['t01'] = dt0p\n",
    "        grad['t02'] = dt0m\n",
    "                                         \n",
    "        dtb1 = (1/np.cos(p_transit['ip']))*grad['r1']-1/(r*np.sin(p_transit['ip']))*grad['ip']\n",
    "        dtb2 = (1/np.cos(p_transit['im']))*grad['r2']-1/(r*np.sin(p_transit['im']))*grad['im']\n",
    "        grad['b1'] = dtb1\n",
    "        grad['b2'] = dtb2\n",
    "        \n",
    "        dtphi = p_transit['pm']/(2*np.pi)*grad['t2']-p_transit['pm']**2/(2*np.pi*p_transit['t0m'])*grad['p2']\n",
    "        grad['phi'] = dtphi\n",
    "        \n",
    "        dtT = 1/((1/(np.pi*(1 + p_transit['ep']*np.sin(p_transit['wp']))**2))*p_transit['ap']**2*(1 - p_transit['ep']**2)**(3/2)*\n",
    "                np.arcsin((np.csc(p_transit['ip'])* (1 + p_transit['ep']* np.sin(p_transit['wp']))*\n",
    "                np.sqrt(1 - (p_transit['ap']**4*(1 - p_transit['ep']**2)**2*np.cos(p_transit['ip'])**2*(1 - np.sin(p_transit['ip'])**2))/(1 + p_transit['ep']*np.sin(p_transit['wp']))**2))/(\n",
    "                p_transit['ap']**2*(1 - p_transit['ep']**2)*np.sqrt(1 - np.sin(p_transit['ip'])**2)))*(1 - np.sin(p_transit['ip'])**2)) * grad['p1']\n",
    "            + \n",
    "        grad['T'] = dtT\n",
    "\n",
    "        \n",
    "        #params to make up the cov matrix\n",
    "        params = ['r1','r2','a1','a2','u1','u2','p1','p2','e1','e2','i1','i2','o2','m2','t01','t02']\n",
    "        \n",
    "        #calculate and assign entries in info_matrix\n",
    "        info_matrix = np.zeros((len(params),len(params)))       \n",
    "        \n",
    "        #for each valuable parameter, calculate the transpose of its gradient\n",
    "        for i,u in enumerate(params):\n",
    "            grad_k = grad[u]\n",
    "            np_arr = np.array(grad_k)\n",
    "            transpose_arr = np_arr.transpose()\n",
    "            \n",
    "            #calculate each entry of the info matrix\n",
    "            for j,v in enumerate(params):\n",
    "                grad_l = grad[v]\n",
    "                gp.compute(t,diag=p_noise['diag'])\n",
    "                entry_ij = np.matmul(transpose_arr,grad_l/p_noise['diag'])\n",
    "                info_matrix[i][j] = entry_ij\n",
    "        \n",
    "        cov_matrix = inv(info_matrix)\n",
    "        \n",
    "        return cov_matrix\n",
    "            "
   ]
  },
  {
   "cell_type": "code",
   "execution_count": 99,
   "id": "cdeb6ed7-8180-42fa-af45-0a53cb892779",
   "metadata": {},
   "outputs": [],
   "source": [
    "def plot_cov(var1,var2,cov_matrices):\n",
    "    '''This function plots the derivative of var1 with respect\n",
    "    to var2. It also takes cov_matrices which are calculated from \n",
    "    the cov_matrix() function.'''\n",
    "    \n",
    "    #i want to pull the one covariance value from each matrix and plot them\n",
    "    x_vals = np.array([])\n",
    "    y_vals = np.array([])\n",
    "    \n",
    "    "
   ]
  },
  {
   "cell_type": "code",
   "execution_count": 102,
   "id": "5d28a5ef-46a1-4ad0-be2b-a07c2d27e734",
   "metadata": {},
   "outputs": [
    {
     "data": {
      "text/plain": [
       "array([[ 9.52089294e-03, -6.75551025e-04, -3.89536137e+02,\n",
       "         1.48477469e+03,  1.61104462e+00, -2.06337981e+00,\n",
       "        -6.71385422e+02,  1.81002002e+04, -7.61038377e+00,\n",
       "        -1.52028977e+03, -9.43599346e-03, -5.48925105e-03,\n",
       "         1.82205746e+00,  4.39962551e+00, -7.16911977e+02,\n",
       "        -9.05009594e+03],\n",
       "       [-6.75811371e-04,  1.51805121e-03,  1.62032377e+02,\n",
       "         7.45785693e+02, -1.87076095e-01,  1.93062202e-01,\n",
       "         2.75988997e+02,  9.04480522e+03, -3.00495471e+00,\n",
       "        -7.57712368e+02,  3.41268849e-03, -7.96357937e-03,\n",
       "        -5.29844091e-01, -1.14024488e+00, -4.17951223e+02,\n",
       "        -4.52240251e+03],\n",
       "       [-8.89780673e+02, -8.05785519e+01,  6.80290583e+11,\n",
       "         4.40855978e+10, -3.73545613e+05,  4.38211877e+05,\n",
       "         1.15579236e+12,  5.32080793e+11,  1.31272599e+09,\n",
       "        -4.44675023e+10,  1.10209997e+07, -1.47354093e+04,\n",
       "         4.70247094e+06,  2.25334628e+07, -1.36111646e+11,\n",
       "        -2.66040395e+11],\n",
       "       [ 1.47911651e+03,  7.32456766e+02,  2.37465458e+10,\n",
       "        -6.03899823e+10,  5.31573397e+05, -6.08735646e+05,\n",
       "         4.04874179e+10, -7.28836260e+11,  3.24074540e+08,\n",
       "         6.09098239e+10,  4.05894725e+05,  1.64254427e+04,\n",
       "        -1.41126365e+07, -3.15011340e+07,  2.75441962e+10,\n",
       "         3.64418128e+11],\n",
       "       [ 1.61108404e+00, -1.86963661e-01, -1.94237125e+05,\n",
       "         5.31998838e+05,  2.79922860e+02, -3.56043335e+02,\n",
       "        -3.32594352e+05,  6.43991740e+06, -2.83035344e+03,\n",
       "        -5.39015795e+05, -3.80998286e+00, -7.08756379e-01,\n",
       "         3.98944736e+02,  9.46551254e+02, -2.45864130e+05,\n",
       "        -3.21995809e+06],\n",
       "       [-2.06343235e+00,  1.92929685e-01,  2.32545548e+05,\n",
       "        -6.08925660e+05, -3.56045963e+02,  4.55323072e+02,\n",
       "         3.98221582e+05, -7.37969046e+06,  3.26574524e+03,\n",
       "         6.18031484e+05,  4.53133768e+00,  9.96791958e-01,\n",
       "        -4.56119458e+02, -1.08651419e+03,  2.80072728e+05,\n",
       "         3.68984441e+06],\n",
       "       [-1.52074624e+03, -1.35783026e+02,  1.15609064e+12,\n",
       "         7.50243653e+10, -6.37064633e+05,  7.47452431e+05,\n",
       "         1.96416018e+12,  9.05488587e+11,  2.22826520e+09,\n",
       "        -7.56742345e+10,  1.87291294e+07, -2.51311179e+04,\n",
       "         8.03002378e+06,  3.83659831e+07, -2.31609706e+11,\n",
       "        -4.52744292e+11],\n",
       "       [ 1.80319011e+04,  8.88393403e+03,  2.86614474e+11,\n",
       "        -7.28835590e+11,  6.43477774e+06, -7.37739144e+06,\n",
       "         4.88671836e+11, -8.79609306e+12,  3.91120716e+09,\n",
       "         7.35097236e+11,  4.89934317e+06,  2.02746759e+05,\n",
       "        -1.70479602e+08, -3.80645523e+08,  3.32418023e+11,\n",
       "         4.39804651e+12],\n",
       "       [-7.75277636e+00, -2.82195195e+00,  1.79874644e+09,\n",
       "         3.35488304e+08, -2.92047124e+03,  3.37609258e+03,\n",
       "         3.05339010e+09,  4.04897429e+09, -8.39280461e+05,\n",
       "        -3.38379189e+08,  2.90856548e+04, -1.00289834e+02,\n",
       "         7.46036963e+04,  1.73959541e+05, -8.60024626e+08,\n",
       "        -2.02448714e+09],\n",
       "       [-1.51458115e+03, -7.44267875e+02, -2.39536436e+10,\n",
       "         6.09097402e+10, -5.38586000e+05,  6.17839044e+05,\n",
       "        -4.08404533e+10,  7.35096902e+11, -3.26865128e+08,\n",
       "        -6.14325262e+10, -4.09472348e+05, -1.71308417e+04,\n",
       "         1.42536842e+07,  3.18302407e+07, -2.77802838e+10,\n",
       "        -3.67548450e+11],\n",
       "       [-1.75550638e-02, -5.22555065e-04,  1.10255691e+07,\n",
       "         7.36052439e+05, -6.72055070e+00,  7.86981886e+00,\n",
       "         1.87320467e+07,  8.88392425e+06,  2.11987913e+04,\n",
       "        -7.42467664e+05,  1.78622582e+02, -2.20569996e-01,\n",
       "         7.46723398e+01,  3.60655402e+02, -2.21488590e+06,\n",
       "        -4.44196211e+06],\n",
       "       [-5.48580622e-03, -7.95895483e-03, -9.05956762e+03,\n",
       "         1.63495766e+04, -7.07968837e-01,  9.95971803e-01,\n",
       "        -1.54921270e+04,  2.01831340e+05, -9.53641303e+01,\n",
       "        -1.70543470e+04, -1.28418282e-01,  4.25142705e-01,\n",
       "        -6.83457174e+00, -2.53501471e+01, -7.20889423e+03,\n",
       "        -1.00915663e+05],\n",
       "       [ 1.82146890e+00, -5.33287507e-01, -1.37150751e+06,\n",
       "        -1.41578503e+07,  3.99215111e+02, -4.56518082e+02,\n",
       "        -2.28329688e+06, -1.71025481e+08,  7.22773181e+04,\n",
       "         1.42993123e+07, -2.39145922e+01, -6.79955098e+00,\n",
       "         4.63698604e+02,  1.76076633e+03,  8.96748434e+06,\n",
       "         8.55127404e+07],\n",
       "       [ 4.39699102e+00, -1.14705179e+00,  1.19090039e+07,\n",
       "        -3.15141835e+07,  9.46444099e+02, -1.08654694e+03,\n",
       "         2.03252008e+07, -3.80803364e+08,  1.68314846e+05,\n",
       "         3.18434461e+07,  1.88194655e+02, -2.53068768e+01,\n",
       "         1.78046776e+03,  5.96308115e+03,  1.44792772e+07,\n",
       "         1.90401682e+08],\n",
       "       [-5.21350791e+02, -2.93859955e+02, -7.97176147e+10,\n",
       "         2.02456467e+10, -1.80301275e+05,  2.05682496e+05,\n",
       "        -1.35742176e+11,  2.44335917e+11, -6.53972127e+08,\n",
       "        -2.04192611e+10, -1.29781838e+06, -5.37411384e+03,\n",
       "         6.66230441e+06,  1.06299141e+07, -4.20839162e+10,\n",
       "        -1.22167958e+11],\n",
       "       [-9.01594781e+03, -4.44196690e+03, -1.43307236e+11,\n",
       "         3.64417793e+11, -3.21738847e+06,  3.68869521e+06,\n",
       "        -2.44335917e+11,  4.39804651e+12, -1.95560357e+09,\n",
       "        -3.67548617e+11, -2.44967158e+06, -1.01373373e+05,\n",
       "         8.52398011e+07,  1.90322762e+08, -1.66209011e+11,\n",
       "        -2.19902325e+12]])"
      ]
     },
     "execution_count": 102,
     "metadata": {},
     "output_type": "execute_result"
    }
   ],
   "source": [
    "cov_matrix(p_transit,p_noise,rho=[1,1.1,1.2])"
   ]
  },
  {
   "cell_type": "markdown",
   "id": "b11fa69a-1825-4f5e-afe5-bfc7be5a9ee3",
   "metadata": {},
   "source": [
    "vary white noise, plot as function fo other params\n",
    "play around with dif combos of valuable params ->>\n",
    "add params to valuable params, figure out which ones are causing the problem\n",
    "params that are more directly related to the appearance of the light curve are probably safe\n",
    "params that matter a lot to the shape of the transit will result in small values in convariance matrix\n",
    "params that have little influence to the shape will blow up matrix and give weird values"
   ]
  },
  {
   "cell_type": "markdown",
   "id": "42777481-add1-4308-831c-6b2b98b5014d",
   "metadata": {},
   "source": [
    "Ideas 11/9:  \n",
    "I could make the covariance matrix a dictionary with keys that tell me what the entries correspond to so then I can search for two keys in the matrix and make a plot of how they change with the independent variable in cov_matrix.  \n",
    "Use pandas dataframe to make names for rows and columns, also makes visualization easier."
   ]
  },
  {
   "cell_type": "code",
   "execution_count": null,
   "id": "95ea3351-4e56-4943-8ff5-60d199ff7215",
   "metadata": {},
   "outputs": [],
   "source": [
    "#calc dt0\n",
    "dt0_dtp = 1/(2*())"
   ]
  },
  {
   "cell_type": "code",
   "execution_count": null,
   "id": "01186c0e-9a5e-4bd8-8d49-83de39406850",
   "metadata": {},
   "outputs": [],
   "source": [
    "def plot_covariance(cov):\n",
    "    "
   ]
  },
  {
   "cell_type": "code",
   "execution_count": 97,
   "id": "f01d5653-a044-4ab4-be30-52944d1ea077",
   "metadata": {},
   "outputs": [
    {
     "ename": "LinAlgError",
     "evalue": "Singular matrix",
     "output_type": "error",
     "traceback": [
      "\u001b[0;31m---------------------------------------------------------------------------\u001b[0m",
      "\u001b[0;31mLinAlgError\u001b[0m                               Traceback (most recent call last)",
      "\u001b[0;32m<ipython-input-97-d4bc8d9a9bdf>\u001b[0m in \u001b[0;36m<module>\u001b[0;34m\u001b[0m\n\u001b[0;32m----> 1\u001b[0;31m \u001b[0mcov_matrix\u001b[0m\u001b[0;34m(\u001b[0m\u001b[0mp_transit\u001b[0m\u001b[0;34m,\u001b[0m\u001b[0mp_noise\u001b[0m\u001b[0;34m,\u001b[0m\u001b[0mrho\u001b[0m\u001b[0;34m=\u001b[0m\u001b[0;34m[\u001b[0m\u001b[0;36m0.9\u001b[0m\u001b[0;34m,\u001b[0m\u001b[0;36m1\u001b[0m\u001b[0;34m,\u001b[0m\u001b[0;36m1.05\u001b[0m\u001b[0;34m]\u001b[0m\u001b[0;34m)\u001b[0m\u001b[0;34m\u001b[0m\u001b[0;34m\u001b[0m\u001b[0m\n\u001b[0m",
      "\u001b[0;32m<ipython-input-95-f612660fa0b6>\u001b[0m in \u001b[0;36mcov_matrix\u001b[0;34m(p_transit, p_noise, **ind_var)\u001b[0m\n\u001b[1;32m     74\u001b[0m         \u001b[0;31m#How do this? Change gefera code? Redefine the systems class and lightcurve method?\u001b[0m\u001b[0;34m\u001b[0m\u001b[0;34m\u001b[0m\u001b[0;34m\u001b[0m\u001b[0m\n\u001b[1;32m     75\u001b[0m \u001b[0;34m\u001b[0m\u001b[0m\n\u001b[0;32m---> 76\u001b[0;31m         \u001b[0mcov_matrix\u001b[0m \u001b[0;34m=\u001b[0m \u001b[0minv\u001b[0m\u001b[0;34m(\u001b[0m\u001b[0minfo_matrix\u001b[0m\u001b[0;34m)\u001b[0m\u001b[0;34m\u001b[0m\u001b[0;34m\u001b[0m\u001b[0m\n\u001b[0m\u001b[1;32m     77\u001b[0m \u001b[0;34m\u001b[0m\u001b[0m\n\u001b[1;32m     78\u001b[0m         \u001b[0;31m#calculate the t0m and t0p entries\u001b[0m\u001b[0;34m\u001b[0m\u001b[0;34m\u001b[0m\u001b[0;34m\u001b[0m\u001b[0m\n",
      "\u001b[0;32m<__array_function__ internals>\u001b[0m in \u001b[0;36minv\u001b[0;34m(*args, **kwargs)\u001b[0m\n",
      "\u001b[0;32m~/.local/lib/python3.8/site-packages/numpy/linalg/linalg.py\u001b[0m in \u001b[0;36minv\u001b[0;34m(a)\u001b[0m\n\u001b[1;32m    543\u001b[0m \u001b[0;34m\u001b[0m\u001b[0m\n\u001b[1;32m    544\u001b[0m     \"\"\"\n\u001b[0;32m--> 545\u001b[0;31m     \u001b[0ma\u001b[0m\u001b[0;34m,\u001b[0m \u001b[0mwrap\u001b[0m \u001b[0;34m=\u001b[0m \u001b[0m_makearray\u001b[0m\u001b[0;34m(\u001b[0m\u001b[0ma\u001b[0m\u001b[0;34m)\u001b[0m\u001b[0;34m\u001b[0m\u001b[0;34m\u001b[0m\u001b[0m\n\u001b[0m\u001b[1;32m    546\u001b[0m     \u001b[0m_assert_stacked_2d\u001b[0m\u001b[0;34m(\u001b[0m\u001b[0ma\u001b[0m\u001b[0;34m)\u001b[0m\u001b[0;34m\u001b[0m\u001b[0;34m\u001b[0m\u001b[0m\n\u001b[1;32m    547\u001b[0m     \u001b[0m_assert_stacked_square\u001b[0m\u001b[0;34m(\u001b[0m\u001b[0ma\u001b[0m\u001b[0;34m)\u001b[0m\u001b[0;34m\u001b[0m\u001b[0;34m\u001b[0m\u001b[0m\n",
      "\u001b[0;32m~/.local/lib/python3.8/site-packages/numpy/linalg/linalg.py\u001b[0m in \u001b[0;36m_raise_linalgerror_singular\u001b[0;34m(err, flag)\u001b[0m\n\u001b[1;32m     86\u001b[0m \u001b[0;32mdel\u001b[0m \u001b[0m_determine_error_states\u001b[0m\u001b[0;34m\u001b[0m\u001b[0;34m\u001b[0m\u001b[0m\n\u001b[1;32m     87\u001b[0m \u001b[0;34m\u001b[0m\u001b[0m\n\u001b[0;32m---> 88\u001b[0;31m \u001b[0;32mdef\u001b[0m \u001b[0m_raise_linalgerror_singular\u001b[0m\u001b[0;34m(\u001b[0m\u001b[0merr\u001b[0m\u001b[0;34m,\u001b[0m \u001b[0mflag\u001b[0m\u001b[0;34m)\u001b[0m\u001b[0;34m:\u001b[0m\u001b[0;34m\u001b[0m\u001b[0;34m\u001b[0m\u001b[0m\n\u001b[0m\u001b[1;32m     89\u001b[0m     \u001b[0;32mraise\u001b[0m \u001b[0mLinAlgError\u001b[0m\u001b[0;34m(\u001b[0m\u001b[0;34m\"Singular matrix\"\u001b[0m\u001b[0;34m)\u001b[0m\u001b[0;34m\u001b[0m\u001b[0;34m\u001b[0m\u001b[0m\n\u001b[1;32m     90\u001b[0m \u001b[0;34m\u001b[0m\u001b[0m\n",
      "\u001b[0;31mLinAlgError\u001b[0m: Singular matrix"
     ]
    }
   ],
   "source": [
    "cov_matrix(p_transit,p_noise,rho=[0.9,1,1.05])"
   ]
  },
  {
   "cell_type": "markdown",
   "id": "db4a274a-81ae-427c-8052-3dc34ab1df7f",
   "metadata": {},
   "source": [
    "good combos: a,r  t,r,u,p,o2,m,i   w,p,m,u,o,i\n",
    "w,p,t is singular"
   ]
  },
  {
   "cell_type": "markdown",
   "id": "f6979c87-1ffb-4536-873f-e42dcfa01a97",
   "metadata": {},
   "source": [
    "we want to work with timing of the barycenter transit T instead of w and t\n",
    "T = timing of the barycenter of the planet-moon system\n",
    "the time at which the barycenter is lined up w the center of star\n",
    "pretending the planet-moon mass is just a single planet\n",
    "assume e=0\n",
    "figure out long of peri has to be so that t_0 corresponds to the transit of the barycenter"
   ]
  },
  {
   "cell_type": "markdown",
   "id": "05b4602f-09c1-4a9f-9e85-5101012f3760",
   "metadata": {},
   "source": [
    "find out which params we are interested in\n",
    "explore how those params change w dif transits"
   ]
  }
 ],
 "metadata": {
  "kernelspec": {
   "display_name": "Python 3",
   "language": "python",
   "name": "python3"
  },
  "language_info": {
   "codemirror_mode": {
    "name": "ipython",
    "version": 3
   },
   "file_extension": ".py",
   "mimetype": "text/x-python",
   "name": "python",
   "nbconvert_exporter": "python",
   "pygments_lexer": "ipython3",
   "version": "3.8.10"
  }
 },
 "nbformat": 4,
 "nbformat_minor": 5
}
